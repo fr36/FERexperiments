{
 "cells": [
  {
   "cell_type": "code",
   "execution_count": 1,
   "metadata": {},
   "outputs": [],
   "source": [
    "from mynet import MAE_ViT\n",
    "\n",
    "import torch\n",
    "import torch.nn as nn\n",
    "from get_dataset import UnlabeledDataset, labeledDataset\n",
    "from torchvision import transforms\n",
    "from matplotlib import pyplot as plt\n",
    "from torchvision.utils import make_grid"
   ]
  },
  {
   "cell_type": "code",
   "execution_count": 2,
   "metadata": {},
   "outputs": [
    {
     "name": "stdout",
     "output_type": "stream",
     "text": [
      "Initializing...\n"
     ]
    }
   ],
   "source": [
    "transform = transforms.Compose([\n",
    "    transforms.Resize((224, 224)),\n",
    "    transforms.ToTensor(),\n",
    "    transforms.Normalize(mean=[0.485, 0.456, 0.406],\n",
    "                            std=[0.229, 0.224, 0.225])])\n",
    "\n",
    "unlabeled_dataset = UnlabeledDataset(root='D:/FERexperiments/datasets/AffectNet', phase='val', transform=transform)\n",
    "train_dataset = labeledDataset(root='D:/FERexperiments/datasets/RAF-DB', phase='train', transform=transform)\n",
    "test_dataset = labeledDataset(root='D:/FERexperiments/datasets/RAF-DB', phase='test', transform=transform)\n",
    "\n",
    "pretrain_dataloader = torch.utils.data.DataLoader(unlabeled_dataset, batch_size=32, shuffle=True, num_workers=4, pin_memory=True)\n",
    "finetune_train_loader = torch.utils.data.DataLoader(train_dataset, batch_size=32, shuffle=True, num_workers=4, pin_memory=True)\n",
    "finetune_test_loader = torch.utils.data.DataLoader(test_dataset, batch_size=32, shuffle=False, num_workers=4, pin_memory=True)\n",
    "\n",
    "# 初始化\n",
    "device = torch.device(\"cuda\" if torch.cuda.is_available() else \"cpu\")\n",
    "model = MAE_ViT().to(device)\n",
    "optimizer = torch.optim.AdamW(model.parameters(), lr=1e-4)\n",
    "\n",
    "print(\"Initializing...\")"
   ]
  },
  {
   "cell_type": "code",
   "execution_count": 3,
   "metadata": {},
   "outputs": [
    {
     "name": "stdout",
     "output_type": "stream",
     "text": [
      "stage 1\n",
      "Epoch [1/20]| Loss: 0.4605\n",
      "Epoch [2/20]| Loss: 0.0901\n",
      "Epoch [3/20]| Loss: 0.0463\n",
      "Epoch [4/20]| Loss: 0.0321\n",
      "Epoch [5/20]| Loss: 0.0247\n",
      "Epoch [6/20]| Loss: 0.0205\n",
      "Epoch [7/20]| Loss: 0.0176\n",
      "Epoch [8/20]| Loss: 0.0152\n",
      "Epoch [9/20]| Loss: 0.0135\n",
      "Epoch [10/20]| Loss: 0.0120\n",
      "Epoch [11/20]| Loss: 0.0109\n",
      "Epoch [12/20]| Loss: 0.0100\n",
      "Epoch [13/20]| Loss: 0.0093\n",
      "Epoch [14/20]| Loss: 0.0088\n",
      "Epoch [15/20]| Loss: 0.0081\n",
      "Epoch [16/20]| Loss: 0.0076\n",
      "Epoch [17/20]| Loss: 0.0072\n",
      "Epoch [18/20]| Loss: 0.0068\n",
      "Epoch [19/20]| Loss: 0.0066\n",
      "Epoch [20/20]| Loss: 0.0061\n"
     ]
    }
   ],
   "source": [
    "num_epochs_1 = 20\n",
    "\n",
    "print(\"stage 1\")\n",
    "# 阶段1：无监督预训练\n",
    "model.stage = 1\n",
    "for epoch in range(num_epochs_1):\n",
    "    model.train()\n",
    "    running_loss = 0.0\n",
    "    for batch_idx, imgs in enumerate(pretrain_dataloader):\n",
    "        imgs = imgs.to(device)  # 确保数据在GPU\n",
    "        \n",
    "        # 前向传播\n",
    "        recon = model(imgs)\n",
    "        loss = nn.MSELoss()(recon, model.patch_embed(imgs))\n",
    "        optimizer.zero_grad()\n",
    "        loss.backward()\n",
    "        optimizer.step()\n",
    "\n",
    "        running_loss += loss.item()\n",
    "    print(f\"Epoch [{epoch+1}/{num_epochs_1}]| Loss: {running_loss / (batch_idx + 1):.4f}\")"
   ]
  },
  {
   "cell_type": "code",
   "execution_count": 6,
   "metadata": {},
   "outputs": [
    {
     "name": "stderr",
     "output_type": "stream",
     "text": [
      "c:\\Users\\Jesus\\miniconda3\\envs\\my-dl-env\\lib\\site-packages\\torch\\optim\\lr_scheduler.py:60: UserWarning: The verbose parameter is deprecated. Please use get_last_lr() to access the learning rate.\n",
      "  warnings.warn(\n"
     ]
    },
    {
     "name": "stdout",
     "output_type": "stream",
     "text": [
      "stage 2\n",
      "Epoch [1/40] | Train Loss: 2.7208 | Test Loss: 3.2608 | Accuracy: 35.40%\n",
      "Epoch [2/40] | Train Loss: 2.8735 | Test Loss: 2.3418 | Accuracy: 35.27%\n",
      "Epoch [3/40] | Train Loss: 2.5489 | Test Loss: 2.9469 | Accuracy: 38.53%\n",
      "Epoch [4/40] | Train Loss: 2.2587 | Test Loss: 2.0061 | Accuracy: 33.05%\n",
      "Epoch [5/40] | Train Loss: 2.2525 | Test Loss: 2.4739 | Accuracy: 36.57%\n",
      "Epoch [6/40] | Train Loss: 3.2903 | Test Loss: 4.2051 | Accuracy: 30.28%\n",
      "Epoch [7/40] | Train Loss: 3.3389 | Test Loss: 2.3670 | Accuracy: 33.02%\n",
      "Epoch [8/40] | Train Loss: 1.9236 | Test Loss: 2.9628 | Accuracy: 34.35%\n",
      "Epoch [9/40] | Train Loss: 2.7805 | Test Loss: 2.0044 | Accuracy: 36.31%\n",
      "Epoch [10/40] | Train Loss: 2.0849 | Test Loss: 3.2670 | Accuracy: 32.79%\n",
      "Epoch [11/40] | Train Loss: 2.3218 | Test Loss: 3.4057 | Accuracy: 29.50%\n",
      "Epoch [12/40] | Train Loss: 2.5438 | Test Loss: 2.1034 | Accuracy: 36.57%\n",
      "Epoch [13/40] | Train Loss: 2.8695 | Test Loss: 4.1046 | Accuracy: 36.18%\n"
     ]
    },
    {
     "ename": "KeyboardInterrupt",
     "evalue": "",
     "output_type": "error",
     "traceback": [
      "\u001b[1;31m---------------------------------------------------------------------------\u001b[0m",
      "\u001b[1;31mKeyboardInterrupt\u001b[0m                         Traceback (most recent call last)",
      "Cell \u001b[1;32mIn[6], line 27\u001b[0m\n\u001b[0;32m     25\u001b[0m     loss\u001b[38;5;241m.\u001b[39mbackward()\n\u001b[0;32m     26\u001b[0m     optimizer\u001b[38;5;241m.\u001b[39mstep()\n\u001b[1;32m---> 27\u001b[0m     train_loss \u001b[38;5;241m+\u001b[39m\u001b[38;5;241m=\u001b[39m \u001b[43mloss\u001b[49m\u001b[38;5;241;43m.\u001b[39;49m\u001b[43mitem\u001b[49m\u001b[43m(\u001b[49m\u001b[43m)\u001b[49m\n\u001b[0;32m     29\u001b[0m model\u001b[38;5;241m.\u001b[39meval()\n\u001b[0;32m     30\u001b[0m test_loss \u001b[38;5;241m=\u001b[39m \u001b[38;5;241m0.0\u001b[39m\n",
      "\u001b[1;31mKeyboardInterrupt\u001b[0m: "
     ]
    }
   ],
   "source": [
    "# 阶段2：监督微调\n",
    "model.stage = 2\n",
    "num_epochs_2 = 40\n",
    "optimizer = torch.optim.AdamW(model.parameters(), lr=1e-2)\n",
    "criterion = nn.CrossEntropyLoss()\n",
    "\n",
    "from torch.optim.lr_scheduler import CosineAnnealingLR\n",
    "scheduler = CosineAnnealingLR(optimizer, T_max=num_epochs_2, eta_min=1e-6, verbose=True)\n",
    "for param in model.encoder.parameters():  \n",
    "    param.requires_grad = False  \n",
    "\n",
    "print(\"stage 2\")\n",
    "\n",
    "\n",
    "\n",
    "for epoch in range(num_epochs_2):\n",
    "    model.train()\n",
    "    train_loss = 0.0\n",
    "    for imgs, labels in finetune_train_loader:\n",
    "        imgs, labels = imgs.to(device), labels.to(device)\n",
    "        preds = model(imgs)\n",
    "        loss = criterion(preds, labels)\n",
    "        \n",
    "        optimizer.zero_grad()\n",
    "        loss.backward()\n",
    "        optimizer.step()\n",
    "        train_loss += loss.item()\n",
    "    \n",
    "    model.eval()\n",
    "    test_loss = 0.0\n",
    "    correct = 0\n",
    "    total = 0\n",
    "    best_acc = 0.0\n",
    "    with torch.no_grad():\n",
    "        for imgs, labels in finetune_test_loader:\n",
    "            imgs, labels = imgs.to(device), labels.to(device)\n",
    "            preds = model(imgs)\n",
    "            loss = criterion(preds, labels)\n",
    "            \n",
    "            test_loss += loss.item()\n",
    "            _, predicted = torch.max(preds.data, 1)\n",
    "            total += labels.size(0)\n",
    "            correct += (predicted == labels).sum().item()\n",
    "    # 打印统计信息\n",
    "    train_loss /= len(finetune_train_loader)\n",
    "    test_loss /= len(finetune_test_loader)\n",
    "    test_acc = 100 * correct / total\n",
    "    \n",
    "    print(f\"Epoch [{epoch+1}/{num_epochs_2}] | \"\n",
    "            f\"Train Loss: {train_loss:.4f} | \"\n",
    "            f\"Test Loss: {test_loss:.4f} | \"\n",
    "            f\"Accuracy: {test_acc:.2f}%\")"
   ]
  }
 ],
 "metadata": {
  "kernelspec": {
   "display_name": "my-dl-env",
   "language": "python",
   "name": "python3"
  },
  "language_info": {
   "codemirror_mode": {
    "name": "ipython",
    "version": 3
   },
   "file_extension": ".py",
   "mimetype": "text/x-python",
   "name": "python",
   "nbconvert_exporter": "python",
   "pygments_lexer": "ipython3",
   "version": "3.8.20"
  }
 },
 "nbformat": 4,
 "nbformat_minor": 2
}
